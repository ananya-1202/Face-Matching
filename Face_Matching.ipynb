{
  "nbformat": 4,
  "nbformat_minor": 0,
  "metadata": {
    "colab": {
      "name": "Face Matching.ipynb",
      "provenance": [],
      "collapsed_sections": []
    },
    "kernelspec": {
      "name": "python3",
      "display_name": "Python 3"
    },
    "language_info": {
      "name": "python"
    }
  },
  "cells": [
    {
      "cell_type": "code",
      "metadata": {
        "id": "VsUXvZoxpFFQ"
      },
      "source": [
        "import numpy as np\n",
        "import os\n",
        "from tensorflow import keras"
      ],
      "execution_count": null,
      "outputs": []
    },
    {
      "cell_type": "code",
      "metadata": {
        "id": "1qcqzkD_pQng"
      },
      "source": [
        "from tensorflow.keras import models, layers, activations, losses, optimizers\n",
        "from keras.layers import Flatten, Dense, Reshape, Input , Lambda\n",
        "from keras.layers import Dense, Conv2D, MaxPooling2D , Flatten\n",
        "import tensorflow.keras.backend as K\n",
        "import tensorflow as tf\n",
        "\n",
        "DIMEN = 128 # dimension of the image\n",
        "\n",
        "input_shape = ( (DIMEN**2) * 3 , )\n",
        "convolution_shape = ( DIMEN , DIMEN , 3 )\n",
        "kernel_size_1 = ( 4 , 4 )\n",
        "kernel_size_2 = ( 3 , 3 )\n",
        "pool_size_1 = ( 3 , 3 )\n",
        "pool_size_2 = ( 2 , 2 )\n",
        "strides = 1\n"
      ],
      "execution_count": null,
      "outputs": []
    },
    {
      "cell_type": "code",
      "metadata": {
        "colab": {
          "base_uri": "https://localhost:8080/"
        },
        "id": "c-Y6oSE4783_",
        "outputId": "e84000dd-5c58-490a-bf86-8a64dabfd6b4"
      },
      "source": [
        "data_dimension = 128\n",
        "\n",
        "X1 = np.load( '')\n",
        "X2 = np.load( '')\n",
        "Y = np.load( '') #Read the image \n",
        "\n",
        "X1 = X1.reshape( ( X1.shape[0]  , data_dimension**2 * 3  ) ).astype( np.float32 )\n",
        "X2 = X2.reshape( ( X2.shape[0]  , data_dimension**2 * 3  ) ).astype( np.float32 )\n",
        "\n",
        "print( X1.shape )\n",
        "print( X2.shape )\n",
        "print( Y.shape )"
      ],
      "execution_count": null,
      "outputs": [
        {
          "output_type": "stream",
          "text": [
            "(36, 49152)\n",
            "(36, 49152)\n",
            "(36,)\n"
          ],
          "name": "stdout"
        }
      ]
    },
    {
      "cell_type": "code",
      "metadata": {
        "id": "FyvQnGxQ9Ia6"
      },
      "source": [
        "parameters = {\n",
        "    'batch_size' : 6 ,\n",
        "    'epochs' : 5 ,\n",
        "    'callbacks' : None , # [ TensorBoard( log_dir='logs/{}'.format( time.time() ) ) ] ,\n",
        "    'val_data' : None\n",
        "}\n"
      ],
      "execution_count": null,
      "outputs": []
    },
    {
      "cell_type": "code",
      "metadata": {
        "id": "CrLvm0TP9diP"
      },
      "source": [
        "class Recognizer (object) :\n",
        "\n",
        "\tdef __init__( self ):\n",
        "\n",
        "\t\t#tf.logging.set_verbosity( tf.logging.ERROR )\n",
        "\n",
        "\t\tself.__DIMEN = 128\n",
        "\n",
        "\t\tinput_shape = ( (self.__DIMEN**2) * 3 , )\n",
        "\t\tconvolution_shape = ( self.__DIMEN , self.__DIMEN , 3 )\n",
        "\t\tkernel_size_1 = ( 4 , 4 )\n",
        "\t\tkernel_size_2 = ( 3 , 3 )\n",
        "\t\tpool_size_1 = ( 3 , 3 )\n",
        "\t\tpool_size_2 = ( 2 , 2 )\n",
        "\t\tstrides = 1\n",
        "\n",
        "\t\tseq_conv_model = [\n",
        "\n",
        "\t\t\tReshape( input_shape=input_shape , target_shape=convolution_shape),\n",
        "\n",
        "\t\t\tConv2D( 32, kernel_size=kernel_size_1 , strides=strides , activation=activations.relu ),\n",
        "\t\t\tConv2D( 32, kernel_size=kernel_size_1, strides=strides, activation=activations.relu),\n",
        "\t\t\tMaxPooling2D(pool_size=pool_size_1, strides=strides ),\n",
        "      Conv2D( 32, kernel_size=kernel_size_1 , strides=strides , activation=activations.relu ),\n",
        "\t\t\tConv2D( 32, kernel_size=kernel_size_1, strides=strides, activation=activations.relu),\n",
        "\t\t\tMaxPooling2D(pool_size=pool_size_1, strides=strides ),\n",
        "\n",
        "\t\t\tConv2D( 64, kernel_size=kernel_size_2 , strides=strides , activation=activations.relu ),\n",
        "\t\t\tConv2D( 64, kernel_size=kernel_size_2 , strides=strides , activation=activations.relu ),\n",
        "\t\t\tMaxPooling2D(pool_size=pool_size_2 , strides=strides),\n",
        "\n",
        "\t\t\tFlatten(),\n",
        "\n",
        "\t\t\tDense( 64 , activation=activations.sigmoid )\n",
        "\n",
        "\t\t]\n",
        "\n",
        "\t\tseq_model = tf.keras.Sequential( seq_conv_model )\n",
        "\n",
        "\t\tinput_x1 = Input( shape=input_shape )\n",
        "\t\tinput_x2 = Input( shape=input_shape )\n",
        "\n",
        "\t\toutput_x1 = seq_model( input_x1 )\n",
        "\t\toutput_x2 = seq_model( input_x2 )\n",
        "\n",
        "\t\tdistance_euclid = Lambda( lambda tensors : K.abs( tensors[0] - tensors[1] ))( [output_x1 , output_x2] )\n",
        "\t\toutputs = Dense( 1 , activation=activations.sigmoid) ( distance_euclid )\n",
        "\t\tself.__model = models.Model( [ input_x1 , input_x2 ] , outputs )\n",
        "\n",
        "\t\tself.__model.compile( loss=losses.binary_crossentropy , optimizer=optimizers.Adam(lr=0.0001),metrics=['accuracy'])\n",
        "\n",
        "\n",
        "\n",
        "\tdef fit(self, X, Y ,  hyperparameters  ):\n",
        "\t\tinitial_time = time.time()\n",
        "\t\th = self.__model.fit( X  , Y ,\n",
        "\t\t\t\t\t\t batch_size=hyperparameters[ 'batch_size' ] ,\n",
        "\t\t\t\t\t\t epochs=hyperparameters[ 'epochs' ] ,\n",
        "\t\t\t\t\t\t callbacks=hyperparameters[ 'callbacks'],\n",
        "\t\t\t\t\t\t validation_data=hyperparameters[ 'val_data' ]\n",
        "\t\t\t\t\t\t )\n",
        "\t\tfinal_time = time.time()\n",
        "\t\teta = ( final_time - initial_time )\n",
        "\t\ttime_unit = 'seconds'\n",
        "\t\tif eta >= 60 :\n",
        "\t\t\teta = eta / 60\n",
        "\t\t\ttime_unit = 'minutes'\n",
        "\t\tself.__model.summary( )\n",
        "\t\tprint( 'Elapsed time acquired for {} epoch(s) -> {} {}'.format( hyperparameters[ 'epochs' ] , eta , time_unit ) )\n",
        "    #return h\n",
        "\n",
        "\t\n",
        "\n",
        "\tdef evaluate(self , test_X , test_Y  ) :\n",
        "\t\treturn self.__model.evaluate(test_X, test_Y)\n",
        "\n",
        "\n",
        "\tdef predict(self, X  ):\n",
        "\t\tpredictions = self.__model.predict( X  )\n",
        "\t\treturn predictions\n",
        "\n",
        "\n",
        "\tdef summary(self):\n",
        "\t\tself.__model.summary()\n",
        "    #return 0 #self.__model\n",
        "  \n",
        "  \n",
        "\n",
        "\tdef save_model(self , file_path ):\n",
        "\t\tself.__model.save(file_path )\n",
        "\n",
        "\n",
        "\tdef load_model(self , file_path ):\n",
        "\t\tself.__model = models.load_model(file_path)\n",
        "  \n"
      ],
      "execution_count": null,
      "outputs": []
    },
    {
      "cell_type": "code",
      "metadata": {
        "colab": {
          "base_uri": "https://localhost:8080/"
        },
        "id": "ie44eK7t9mjf",
        "outputId": "d9076c14-1168-47ed-cd2a-e6e5c5a4bdd7"
      },
      "source": [
        "import time\n",
        "recognizer = Recognizer()\n",
        "#recognizer.load_model('models/model.h5')\n",
        "\n",
        "parameters = {\n",
        "    'batch_size' : 6 ,\n",
        "    'epochs' : 3 ,\n",
        "    'callbacks' : None , # [ TensorBoard( log_dir='logs/{}'.format( time.time() ) ) ] ,\n",
        "    'val_data' : None\n",
        "}\n",
        "\n",
        "recognizer.fit( [ X1 , X2 ], Y, hyperparameters=parameters)\n",
        "#recognizer.save_model('models/model.h5')"
      ],
      "execution_count": null,
      "outputs": [
        {
          "output_type": "stream",
          "text": [
            "Epoch 1/3\n",
            "6/6 [==============================] - 22s 3s/step - loss: 0.6419 - accuracy: 0.5714\n",
            "Epoch 2/3\n",
            "6/6 [==============================] - 20s 3s/step - loss: 0.3549 - accuracy: 0.8992\n",
            "Epoch 3/3\n",
            "6/6 [==============================] - 21s 3s/step - loss: 0.2623 - accuracy: 1.0000\n",
            "Model: \"model_5\"\n",
            "__________________________________________________________________________________________________\n",
            "Layer (type)                    Output Shape         Param #     Connected to                     \n",
            "==================================================================================================\n",
            "input_11 (InputLayer)           [(None, 49152)]      0                                            \n",
            "__________________________________________________________________________________________________\n",
            "input_12 (InputLayer)           [(None, 49152)]      0                                            \n",
            "__________________________________________________________________________________________________\n",
            "sequential_5 (Sequential)       (None, 64)           47001408    input_11[0][0]                   \n",
            "                                                                 input_12[0][0]                   \n",
            "__________________________________________________________________________________________________\n",
            "lambda_5 (Lambda)               (None, 64)           0           sequential_5[0][0]               \n",
            "                                                                 sequential_5[1][0]               \n",
            "__________________________________________________________________________________________________\n",
            "dense_11 (Dense)                (None, 1)            65          lambda_5[0][0]                   \n",
            "==================================================================================================\n",
            "Total params: 47,001,473\n",
            "Trainable params: 47,001,473\n",
            "Non-trainable params: 0\n",
            "__________________________________________________________________________________________________\n",
            "Elapsed time acquired for 3 epoch(s) -> 1.0478846828142803 minutes\n"
          ],
          "name": "stdout"
        }
      ]
    }
  ]
}